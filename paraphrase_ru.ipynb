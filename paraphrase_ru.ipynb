{
 "cells": [
  {
   "cell_type": "code",
   "execution_count": 1,
   "id": "6d490b66",
   "metadata": {},
   "outputs": [],
   "source": [
    "from deeppavlov import configs, build_model"
   ]
  },
  {
   "cell_type": "code",
   "execution_count": 2,
   "id": "9d684d02",
   "metadata": {},
   "outputs": [
    {
     "name": "stderr",
     "output_type": "stream",
     "text": [
      "2022-04-24 19:05:39.418 INFO in 'deeppavlov.core.common.file'['file'] at line 32: Interpreting 'paraphraser_rubert' as '/home/alex/anaconda3/envs/ml04/lib/python3.7/site-packages/deeppavlov/configs/classifiers/paraphraser_rubert.json'\n",
      "/home/alex/anaconda3/envs/ml04/lib/python3.7/site-packages/cryptography/hazmat/backends/openssl/x509.py:17: CryptographyDeprecationWarning: This version of cryptography contains a temporary pyOpenSSL fallback path. Upgrade pyOpenSSL now.\n",
      "  utils.DeprecatedIn35,\n",
      "2022-04-24 19:05:39.873 INFO in 'deeppavlov.core.data.utils'['utils'] at line 95: Downloading from http://files.deeppavlov.ai/deeppavlov_data/bert/rubert_cased_L-12_H-768_A-12_v1.tar.gz to /home/alex/.deeppavlov/downloads/rubert_cased_L-12_H-768_A-12_v1.tar.gz\n",
      "100%|██████████████████████████████████████████████████████████████████| 666M/666M [00:26<00:00, 25.4MB/s]\n",
      "2022-04-24 19:06:06.453 INFO in 'deeppavlov.core.data.utils'['utils'] at line 272: Extracting /home/alex/.deeppavlov/downloads/rubert_cased_L-12_H-768_A-12_v1.tar.gz archive into /home/alex/.deeppavlov/downloads/bert_models\n",
      "2022-04-24 19:06:11.592 INFO in 'deeppavlov.core.data.utils'['utils'] at line 95: Downloading from http://files.deeppavlov.ai/deeppavlov_data/classifiers/paraphraser_rubert_v0.tar.gz to /home/alex/.deeppavlov/paraphraser_rubert_v0.tar.gz\n",
      "100%|██████████████████████████████████████████████████████████████████| 659M/659M [00:25<00:00, 25.5MB/s]\n",
      "2022-04-24 19:06:37.908 INFO in 'deeppavlov.core.data.utils'['utils'] at line 272: Extracting /home/alex/.deeppavlov/paraphraser_rubert_v0.tar.gz archive into /home/alex/.deeppavlov/models\n",
      "2022-04-24 19:06:42.781 INFO in 'deeppavlov.download'['download'] at line 138: Skipped http://files.deeppavlov.ai/datasets/paraphraser.zip download because of matching hashes\n",
      "2022-04-24 19:06:43.94 INFO in 'deeppavlov.download'['download'] at line 138: Skipped http://files.deeppavlov.ai/datasets/paraphraser_gold.zip download because of matching hashes\n",
      "[nltk_data] Downloading package punkt to /home/alex/nltk_data...\n",
      "[nltk_data]   Package punkt is already up-to-date!\n",
      "[nltk_data] Downloading package stopwords to /home/alex/nltk_data...\n",
      "[nltk_data]   Package stopwords is already up-to-date!\n",
      "[nltk_data] Downloading package perluniprops to\n",
      "[nltk_data]     /home/alex/nltk_data...\n",
      "[nltk_data]   Package perluniprops is already up-to-date!\n",
      "[nltk_data] Downloading package nonbreaking_prefixes to\n",
      "[nltk_data]     /home/alex/nltk_data...\n",
      "[nltk_data]   Package nonbreaking_prefixes is already up-to-date!\n"
     ]
    },
    {
     "name": "stdout",
     "output_type": "stream",
     "text": [
      "WARNING:tensorflow:From /home/alex/anaconda3/envs/ml04/lib/python3.7/site-packages/bert_dp/tokenization.py:125: The name tf.gfile.GFile is deprecated. Please use tf.io.gfile.GFile instead.\n",
      "\n",
      "WARNING:tensorflow:From /home/alex/anaconda3/envs/ml04/lib/python3.7/site-packages/deeppavlov/core/models/tf_model.py:37: The name tf.Session is deprecated. Please use tf.compat.v1.Session instead.\n",
      "\n",
      "WARNING:tensorflow:From /home/alex/anaconda3/envs/ml04/lib/python3.7/site-packages/deeppavlov/core/models/tf_model.py:222: The name tf.placeholder is deprecated. Please use tf.compat.v1.placeholder instead.\n",
      "\n",
      "WARNING:tensorflow:From /home/alex/anaconda3/envs/ml04/lib/python3.7/site-packages/deeppavlov/core/models/tf_model.py:222: The name tf.train.Optimizer is deprecated. Please use tf.compat.v1.train.Optimizer instead.\n",
      "\n",
      "WARNING:tensorflow:From /home/alex/anaconda3/envs/ml04/lib/python3.7/site-packages/deeppavlov/core/models/tf_model.py:193: The name tf.train.AdamOptimizer is deprecated. Please use tf.compat.v1.train.AdamOptimizer instead.\n",
      "\n",
      "WARNING:tensorflow:From /home/alex/anaconda3/envs/ml04/lib/python3.7/site-packages/deeppavlov/models/bert/bert_classifier.py:84: The name tf.ConfigProto is deprecated. Please use tf.compat.v1.ConfigProto instead.\n",
      "\n",
      "WARNING:tensorflow:From /home/alex/anaconda3/envs/ml04/lib/python3.7/site-packages/deeppavlov/models/bert/bert_classifier.py:161: The name tf.placeholder_with_default is deprecated. Please use tf.compat.v1.placeholder_with_default instead.\n",
      "\n",
      "WARNING:tensorflow:From /home/alex/anaconda3/envs/ml04/lib/python3.7/site-packages/bert_dp/modeling.py:178: The name tf.variable_scope is deprecated. Please use tf.compat.v1.variable_scope instead.\n",
      "\n",
      "WARNING:tensorflow:From /home/alex/anaconda3/envs/ml04/lib/python3.7/site-packages/bert_dp/modeling.py:418: The name tf.get_variable is deprecated. Please use tf.compat.v1.get_variable instead.\n",
      "\n",
      "WARNING:tensorflow:From /home/alex/anaconda3/envs/ml04/lib/python3.7/site-packages/bert_dp/modeling.py:499: The name tf.assert_less_equal is deprecated. Please use tf.compat.v1.assert_less_equal instead.\n",
      "\n",
      "WARNING:tensorflow:\n",
      "The TensorFlow contrib module will not be included in TensorFlow 2.0.\n",
      "For more information, please see:\n",
      "  * https://github.com/tensorflow/community/blob/master/rfcs/20180907-contrib-sunset.md\n",
      "  * https://github.com/tensorflow/addons\n",
      "  * https://github.com/tensorflow/io (for I/O related ops)\n",
      "If you depend on functionality not listed there, please file an issue.\n",
      "\n"
     ]
    },
    {
     "name": "stderr",
     "output_type": "stream",
     "text": [
      "2022-04-24 19:06:44.858285: I tensorflow/core/platform/cpu_feature_guard.cc:142] Your CPU supports instructions that this TensorFlow binary was not compiled to use: AVX2 FMA\n",
      "2022-04-24 19:06:44.882239: I tensorflow/core/platform/profile_utils/cpu_utils.cc:94] CPU Frequency: 3999980000 Hz\n",
      "2022-04-24 19:06:44.882613: I tensorflow/compiler/xla/service/service.cc:168] XLA service 0x555e5f7e7bf0 initialized for platform Host (this does not guarantee that XLA will be used). Devices:\n",
      "2022-04-24 19:06:44.882630: I tensorflow/compiler/xla/service/service.cc:176]   StreamExecutor device (0): Host, Default Version\n"
     ]
    },
    {
     "name": "stdout",
     "output_type": "stream",
     "text": [
      "WARNING:tensorflow:From /home/alex/anaconda3/envs/ml04/lib/python3.7/site-packages/bert_dp/modeling.py:366: calling dropout (from tensorflow.python.ops.nn_ops) with keep_prob is deprecated and will be removed in a future version.\n",
      "Instructions for updating:\n",
      "Please use `rate` instead of `keep_prob`. Rate should be set to `rate = 1 - keep_prob`.\n",
      "WARNING:tensorflow:From /home/alex/anaconda3/envs/ml04/lib/python3.7/site-packages/bert_dp/modeling.py:680: dense (from tensorflow.python.layers.core) is deprecated and will be removed in a future version.\n",
      "Instructions for updating:\n",
      "Use keras.layers.Dense instead.\n",
      "WARNING:tensorflow:From /home/alex/anaconda3/envs/ml04/lib/python3.7/site-packages/tensorflow_core/python/layers/core.py:187: Layer.apply (from tensorflow.python.keras.engine.base_layer) is deprecated and will be removed in a future version.\n",
      "Instructions for updating:\n",
      "Please use `layer.__call__` method instead.\n",
      "WARNING:tensorflow:From /home/alex/anaconda3/envs/ml04/lib/python3.7/site-packages/bert_dp/modeling.py:283: The name tf.erf is deprecated. Please use tf.math.erf instead.\n",
      "\n",
      "WARNING:tensorflow:From /home/alex/anaconda3/envs/ml04/lib/python3.7/site-packages/deeppavlov/core/models/tf_model.py:127: The name tf.get_collection is deprecated. Please use tf.compat.v1.get_collection instead.\n",
      "\n",
      "WARNING:tensorflow:From /home/alex/anaconda3/envs/ml04/lib/python3.7/site-packages/deeppavlov/core/models/tf_model.py:127: The name tf.GraphKeys is deprecated. Please use tf.compat.v1.GraphKeys instead.\n",
      "\n",
      "WARNING:tensorflow:From /home/alex/anaconda3/envs/ml04/lib/python3.7/site-packages/deeppavlov/models/bert/bert_classifier.py:92: The name tf.global_variables_initializer is deprecated. Please use tf.compat.v1.global_variables_initializer instead.\n",
      "\n",
      "WARNING:tensorflow:From /home/alex/anaconda3/envs/ml04/lib/python3.7/site-packages/deeppavlov/models/bert/bert_classifier.py:97: checkpoint_exists (from tensorflow.python.training.checkpoint_management) is deprecated and will be removed in a future version.\n",
      "Instructions for updating:\n",
      "Use standard file APIs to check for files with this prefix.\n"
     ]
    },
    {
     "name": "stderr",
     "output_type": "stream",
     "text": [
      "2022-04-24 19:06:56.921 INFO in 'deeppavlov.core.models.tf_model'['tf_model'] at line 51: [loading model from /home/alex/.deeppavlov/models/paraphraser_rubert/model_rubert]\n"
     ]
    },
    {
     "name": "stdout",
     "output_type": "stream",
     "text": [
      "WARNING:tensorflow:From /home/alex/anaconda3/envs/ml04/lib/python3.7/site-packages/deeppavlov/core/models/tf_model.py:54: The name tf.train.Saver is deprecated. Please use tf.compat.v1.train.Saver instead.\n",
      "\n",
      "INFO:tensorflow:Restoring parameters from /home/alex/.deeppavlov/models/paraphraser_rubert/model_rubert\n"
     ]
    }
   ],
   "source": [
    "config = 'paraphraser_rubert'\n",
    "model = build_model(config, download=True)"
   ]
  },
  {
   "cell_type": "code",
   "execution_count": 3,
   "id": "22907f1c",
   "metadata": {},
   "outputs": [],
   "source": [
    "data = {\n",
    "  \"text_a\": [\n",
    "    \"Город погружается в сон, просыпается Мафия.\",\n",
    "    \"Президент США пригрозил расторжением договора с Германией.\"\n",
    "  ],\n",
    "  \"text_b\": [\n",
    "    \"Наступает ночь, все жители города пошли спать, а преступники проснулись.\",\n",
    "    \"Германия не собирается поддаваться угрозам со стороны США.\"\n",
    "  ]\n",
    "}"
   ]
  },
  {
   "cell_type": "code",
   "execution_count": 4,
   "id": "467dd650",
   "metadata": {},
   "outputs": [
    {
     "data": {
      "text/plain": [
       "(['Город погружается в сон, просыпается Мафия.',\n",
       "  'Президент США пригрозил расторжением договора с Германией.'],\n",
       " ['Наступает ночь, все жители города пошли спать, а преступники проснулись.',\n",
       "  'Германия не собирается поддаваться угрозам со стороны США.'])"
      ]
     },
     "execution_count": 4,
     "metadata": {},
     "output_type": "execute_result"
    }
   ],
   "source": [
    "data['text_a'],data['text_b']"
   ]
  },
  {
   "cell_type": "code",
   "execution_count": 5,
   "id": "60e28a7c",
   "metadata": {},
   "outputs": [
    {
     "data": {
      "text/plain": [
       "array([1, 0])"
      ]
     },
     "execution_count": 5,
     "metadata": {},
     "output_type": "execute_result"
    }
   ],
   "source": [
    "model(data['text_a'],data['text_b'])"
   ]
  }
 ],
 "metadata": {
  "kernelspec": {
   "display_name": "Python (ml04)",
   "language": "python",
   "name": "ml04"
  },
  "language_info": {
   "codemirror_mode": {
    "name": "ipython",
    "version": 3
   },
   "file_extension": ".py",
   "mimetype": "text/x-python",
   "name": "python",
   "nbconvert_exporter": "python",
   "pygments_lexer": "ipython3",
   "version": "3.7.13"
  }
 },
 "nbformat": 4,
 "nbformat_minor": 5
}
